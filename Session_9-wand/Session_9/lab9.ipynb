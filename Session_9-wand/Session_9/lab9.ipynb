{
 "cells": [
  {
   "cell_type": "code",
   "execution_count": 1,
   "metadata": {
    "colab": {
     "base_uri": "https://localhost:8080/"
    },
    "id": "9uymp2t7Apac",
    "outputId": "d8cd29a4-3301-4036-d730-2da899465cbe"
   },
   "outputs": [],
   "source": [
    "import torch"
   ]
  },
  {
   "cell_type": "code",
   "execution_count": 2,
   "metadata": {},
   "outputs": [
    {
     "name": "stdout",
     "output_type": "stream",
     "text": [
      "Using cuda device\n"
     ]
    }
   ],
   "source": [
    "device = 'cuda' if torch.cuda.is_available() else 'cpu'\n",
    "print(f'Using {device} device')"
   ]
  },
  {
   "cell_type": "code",
   "execution_count": 3,
   "metadata": {
    "id": "Ri6LkA6AB6_N"
   },
   "outputs": [],
   "source": [
    "cuda = torch.device('cuda')"
   ]
  },
  {
   "cell_type": "code",
   "execution_count": null,
   "metadata": {},
   "outputs": [],
   "source": [
    "!wget https://github.com/matinfazel/Tumor-Classification/raw/main/Tumor.zip"
   ]
  },
  {
   "cell_type": "code",
   "execution_count": 4,
   "metadata": {
    "id": "d9QPnQZ_0Zv9"
   },
   "outputs": [],
   "source": [
    "from torchvision import transforms\n",
    "import os\n",
    "from PIL import Image\n",
    "import numpy as np\n",
    "import pandas as pds\n",
    "from torch.utils.data import DataLoader,TensorDataset,random_split\n",
    "\n",
    "############################################################## Loading Data\n",
    "n = 3762\n",
    "image=[]\n",
    "cw = os.getcwd().replace(os.sep, '/')\n",
    "trans = transforms.Compose([transforms.ToTensor()])\n",
    "for i in range(n):\n",
    "#    image.append(np.asarray(Image.open(cw + \"/Brain_Tumor/Image\" + str(i+1) + \".jpg\")))\n",
    "    image.append(np.array(Image.open(cw + \"/Brain_Tumor/Image\" + str(i+1) + \".jpg\").resize((48,48))))\n",
    "\n",
    "temp = pds.read_csv(cw + \"/Brain_Tumor.csv\",index_col=None, header=None).to_numpy()\n",
    "temp = temp[1:,1]\n",
    "targets = np.zeros((n,1),dtype=int)\n",
    "targets = []\n",
    "for i in range(n):\n",
    "    targets.append(int(temp[i]))\n",
    "\n",
    "data = np.array(image)\n",
    "data = data/255\n",
    "data = torch.from_numpy(data).permute((0,3,2,1))\n",
    "data = data.float().to(cuda)\n",
    "targets = torch.tensor(targets).to(cuda)\n",
    "dataset = TensorDataset(data,targets)\n",
    "batch_size = 4\n",
    "val_size = int(np.ceil(len(dataset)*0.2))\n",
    "train_size = len(dataset) - val_size \n",
    "\n",
    "train_data,test_data = random_split(dataset,[train_size,val_size])\n",
    "\n",
    "#start your code \n",
    "\n",
    "train_loader = ...        #Put the train data into a data loader\n",
    "test_loader = ...         #Put the train data into a data loader\n",
    "# end "
   ]
  },
  {
   "cell_type": "code",
   "execution_count": 5,
   "metadata": {
    "id": "qWu_1de034Qq"
   },
   "outputs": [],
   "source": [
    "import matplotlib.pyplot as plt\n",
    "from torchvision import transforms"
   ]
  },
  {
   "cell_type": "code",
   "execution_count": null,
   "metadata": {},
   "outputs": [],
   "source": [
    "print(\"count of data:\", len(train_data))\n",
    "train_features, train_labels = next(iter(train_loader))\n",
    "print(f\"Feature batch shape: {train_features.size()}\") \n",
    "print(f\"Labels batch shape: {train_labels.size()}\")\n",
    "\n",
    "for i in range(batch_size):\n",
    "    img = train_features[i].squeeze()\n",
    "    label = train_labels[i]\n",
    "    im = transforms.ToPILImage()(img).convert(\"RGB\")\n",
    "    plt.imshow(im)\n",
    "    plt.show()\n",
    "    print(f\"Label: {label}\")"
   ]
  },
  {
   "cell_type": "code",
   "execution_count": 9,
   "metadata": {
    "id": "eCRXLlUO0nBN"
   },
   "outputs": [],
   "source": [
    "import os\n",
    "import torch\n",
    "from torch import nn\n",
    "from torch.utils.data import DataLoader\n",
    "from torchvision import datasets, transforms\n",
    "\n",
    "class NeuralNetwork(nn.Module):\n",
    "    def __init__(self):\n",
    "        super(NeuralNetwork, self).__init__()\n",
    "        #start your code\n",
    "        ...                # flatten\n",
    "        # end\n",
    "        self.linear_relu_stack = nn.Sequential(\n",
    "            # your code\n",
    "            ...,\n",
    "            ...,\n",
    "            ...,\n",
    "            ...,\n",
    "            ...,\n",
    "            # end\n",
    "        )\n",
    "\n",
    "    def forward(self, x):\n",
    "        #start your code\n",
    "        x = ... # flatten\n",
    "        logits =  # linear_relu_satck\n",
    "        # end\n",
    "        return logits"
   ]
  },
  {
   "cell_type": "code",
   "execution_count": null,
   "metadata": {},
   "outputs": [],
   "source": [
    "model = NeuralNetwork().to(device)\n",
    "print(model)"
   ]
  },
  {
   "cell_type": "code",
   "execution_count": 11,
   "metadata": {
    "id": "VPd-IgTgAIIb"
   },
   "outputs": [],
   "source": [
    "learning_rate = 1e-3\n",
    "batch_size = 64\n",
    "epochs = 100\n",
    "\n",
    "# your code\n",
    "loss_fn = ... # CrossEntropy\n",
    "\n",
    "optimizer = ... # SGD\n",
    "# end "
   ]
  },
  {
   "cell_type": "code",
   "execution_count": 12,
   "metadata": {
    "id": "5sMcbd-3AIiF"
   },
   "outputs": [],
   "source": [
    "def train_loop(dataloader, model, loss_fn, optimizer):\n",
    "    size = len(dataloader.dataset)\n",
    "    for batch, (X, y) in enumerate(dataloader):\n",
    "        #start your code\n",
    "        #prediction\n",
    "        #loss\n",
    "\n",
    "        #loss optimizer\n",
    "        #backward\n",
    "        #step \n",
    "        #end\n",
    "        if batch % 100 == 0:\n",
    "            loss, current = loss.item(), batch * len(X)\n",
    "            print(f\"loss: {loss:>7f}  [{current:>5d}/{size:>5d}]\")\n",
    "\n",
    "\n",
    "def test_loop(dataloader, model, loss_fn):\n",
    "    size = len(dataloader.dataset)\n",
    "    num_batches = len(dataloader)\n",
    "    test_loss, correct = 0, 0\n",
    "\n",
    "    with torch.no_grad():\n",
    "        for X, y in dataloader:\n",
    "            pred = model(X)\n",
    "            test_loss += loss_fn(pred, y).item()\n",
    "            correct += (pred.argmax(1) == y).type(torch.float).sum().item()\n",
    "\n",
    "    test_loss /= num_batches\n",
    "    correct /= size\n",
    "    print(f\"Test Error: \\n Accuracy: {(100*correct):>0.1f}%, Avg loss: {test_loss:>8f} \\n\")\n",
    "    return test_loss"
   ]
  },
  {
   "cell_type": "code",
   "execution_count": null,
   "metadata": {},
   "outputs": [],
   "source": [
    "loss_fn = nn.CrossEntropyLoss()\n",
    "optimizer = torch.optim.SGD(model.parameters(), lr=learning_rate)\n",
    "\n",
    "losses=[]\n",
    "for t in range(epochs):\n",
    "    print(f\"Epoch {t+1}\\n-------------------------------\")\n",
    "    train_loop(train_loader, model, loss_fn, optimizer)\n",
    "    loss = test_loop(test_loader, model, loss_fn)\n",
    "    losses.append(loss)\n",
    "print(\"Done!\")"
   ]
  },
  {
   "cell_type": "code",
   "execution_count": null,
   "metadata": {},
   "outputs": [],
   "source": [
    "plt.plot(np.arange(0,100),losses)"
   ]
  },
  {
   "cell_type": "code",
   "execution_count": 88,
   "metadata": {
    "id": "nlmrIf1bEZLp"
   },
   "outputs": [],
   "source": [
    "class NeuralNetwork2(nn.Module):\n",
    "    def __init__(self):\n",
    "        super(NeuralNetwork2, self).__init__()\n",
    "        self.stack = nn.Sequential(\n",
    "            #start your code\n",
    "            ...,\n",
    "            ...,\n",
    "            ...,\n",
    "            ...,\n",
    "            ...,\n",
    "            ...,\n",
    "            ...,\n",
    "            ...,\n",
    "            ...,\n",
    "            ...,\n",
    "            ...\n",
    "            # end\n",
    "        )\n",
    "\n",
    "    def forward(self, x):\n",
    "        logits = ...\n",
    "        return logits"
   ]
  },
  {
   "cell_type": "code",
   "execution_count": null,
   "metadata": {},
   "outputs": [],
   "source": [
    "model2 = NeuralNetwork2().to(cuda)\n",
    "print(model2)"
   ]
  },
  {
   "cell_type": "code",
   "execution_count": null,
   "metadata": {},
   "outputs": [],
   "source": [
    "loss_fn = nn.CrossEntropyLoss()\n",
    "optimizer = torch.optim.SGD(model2.parameters(), lr=learning_rate)\n",
    "\n",
    "losses=[]\n",
    "for t in range(epochs):\n",
    "    print(f\"Epoch {t+1}\\n-------------------------------\")\n",
    "    train_loop(train_loader, model2, loss_fn, optimizer)\n",
    "    loss = test_loop(test_loader, model2, loss_fn)\n",
    "    losses.append(loss)\n",
    "print(\"Done!\")"
   ]
  },
  {
   "cell_type": "code",
   "execution_count": null,
   "metadata": {},
   "outputs": [],
   "source": [
    "plt.plot(np.arange(0,100),losses)"
   ]
  },
  {
   "cell_type": "code",
   "execution_count": null,
   "metadata": {},
   "outputs": [],
   "source": [
    "!pip install wandb\n",
    "import wandb"
   ]
  },
  {
   "cell_type": "code",
   "execution_count": null,
   "metadata": {},
   "outputs": [],
   "source": [
    "#wandb init"
   ]
  },
  {
   "cell_type": "code",
   "execution_count": null,
   "metadata": {},
   "outputs": [],
   "source": [
    "sweep_configuration = {...}"
   ]
  },
  {
   "cell_type": "code",
   "execution_count": null,
   "metadata": {},
   "outputs": [],
   "source": [
    "sweep_id = ...\n",
    "wandb.agent(...)"
   ]
  }
 ],
 "metadata": {
  "accelerator": "GPU",
  "colab": {
   "name": "DL_HW2_Exercise4.ipynb",
   "provenance": []
  },
  "kernelspec": {
   "display_name": "Python 3 (ipykernel)",
   "language": "python",
   "name": "python3"
  },
  "language_info": {
   "codemirror_mode": {
    "name": "ipython",
    "version": 3
   },
   "file_extension": ".py",
   "mimetype": "text/x-python",
   "name": "python",
   "nbconvert_exporter": "python",
   "pygments_lexer": "ipython3",
   "version": "3.9.7"
  }
 },
 "nbformat": 4,
 "nbformat_minor": 1
}
