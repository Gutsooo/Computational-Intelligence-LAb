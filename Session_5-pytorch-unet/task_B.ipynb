{
 "cells": [
  {
   "cell_type": "markdown",
   "id": "02535e6e",
   "metadata": {},
   "source": [
    "## Task B"
   ]
  },
  {
   "cell_type": "markdown",
   "id": "dbf4fab0",
   "metadata": {},
   "source": [
    "### classification"
   ]
  },
  {
   "cell_type": "markdown",
   "id": "78538db6",
   "metadata": {},
   "source": [
    "import library"
   ]
  },
  {
   "cell_type": "code",
   "execution_count": 1,
   "id": "b29e8fa3",
   "metadata": {},
   "outputs": [],
   "source": [
    "import torch\n",
    "import matplotlib.pyplot as plt\n",
    "from torch import nn\n",
    "import numpy as np"
   ]
  },
  {
   "cell_type": "markdown",
   "id": "3e8535cd",
   "metadata": {},
   "source": [
    "Creating your own dataset and label"
   ]
  },
  {
   "cell_type": "code",
   "execution_count": 2,
   "id": "4f695e87",
   "metadata": {},
   "outputs": [],
   "source": [
    "def gaussian(x0, y0, x_std, y_std, n):\n",
    "    X = torch.normal(mean=torch.ones((n, 2)) * torch.tensor([x0, y0]),\n",
    "            std=torch.tensor([x_std, y_std]))\n",
    "    return X"
   ]
  },
  {
   "cell_type": "code",
   "execution_count": 3,
   "id": "d3182af4",
   "metadata": {},
   "outputs": [],
   "source": [
    "# First Gaussian distribution: x=(-1,-1), y=0\n",
    "X1_xor = gaussian(-1, -1, 0.1, 0.1, 100)\n",
    "y1_xor = torch.zeros(X1_xor.shape[0]).long()     # First category is 0\n",
    "\n",
    "# Second distribution: x=(1,1), y=0\n",
    "X2_xor = gaussian(1, 1, 0.1, 0.1, 100)\n",
    "y2_xor = torch.zeros(X2_xor.shape[0]).long()  # First category is 0\n",
    "\n",
    "# Third distribution: x=(-1,1), y=1\n",
    "X3_xor = gaussian(-1, 1, 0.1, 0.1, 100)\n",
    "y3_xor = torch.ones(X3_xor.shape[0]).long()  # Second category is 1\n",
    "\n",
    "# Fourth distribution: x=(1,-1), y=1\n",
    "X4_xor = gaussian(1, -1, 0.1, 0.1, 100)\n",
    "y4_xor = torch.ones(X4_xor.shape[0]).long()  # First category is 1"
   ]
  },
  {
   "cell_type": "code",
   "execution_count": 4,
   "id": "a15c566c",
   "metadata": {},
   "outputs": [],
   "source": [
    "X_xor = torch.cat((X1_xor, X2_xor, X3_xor, X4_xor), 0)\n",
    "y_xor = torch.cat((y1_xor, y2_xor, y3_xor, y4_xor), 0)"
   ]
  },
  {
   "cell_type": "markdown",
   "id": "2263190c",
   "metadata": {},
   "source": [
    "Defining your simple model"
   ]
  },
  {
   "cell_type": "code",
   "execution_count": 5,
   "id": "037e1ece",
   "metadata": {},
   "outputs": [],
   "source": [
    "model = torch.nn.Sequential(\n",
    "    # your code\n",
    "    nn.Linear(2, 30),     # 2 inputs, 30 neurons\n",
    "    nn.ReLU() ,       # Non-linear activation\n",
    "    nn.Linear(30, 2) ,     # 2 outputs, one for each possible category\n",
    "    nn.Softmax(dim=1),     # Softmax output to get a probability distribution\n",
    ")\n",
    "\n",
    "learning_rate = 1e-2\n",
    "# your code\n",
    "\n",
    "optimizer_general = torch.optim.SGD(model.parameters(), learning_rate)  # sgd optimizer\n",
    "loss_fn = torch.nn.CrossEntropyLoss()     #Cross entropy loss\n",
    "# end"
   ]
  },
  {
   "cell_type": "markdown",
   "id": "33635223",
   "metadata": {},
   "source": [
    "training the model"
   ]
  },
  {
   "cell_type": "markdown",
   "id": "66ca9af4",
   "metadata": {},
   "source": [
    "You have to do 6 steps in this part\n",
    "* 1- predict based on x\n",
    "* 2- compute loss\n",
    "* 3- clear gradients for next train\n",
    "* 4- backpropagation\n",
    "* 5- apply gradients\n",
    "* 6- Add error to error list"
   ]
  },
  {
   "cell_type": "code",
   "execution_count": 6,
   "id": "1e253caa",
   "metadata": {},
   "outputs": [],
   "source": [
    "def train(x, y, model, optimizer, loss_fn, epochs):\n",
    "    error_list = []\n",
    "    for i in range(epochs):\n",
    "         # 1- input x and predict based on x\n",
    "        prediction = model(x)  \n",
    "         # 2- compute loss\n",
    "        loss = loss_fn(prediction, y)   \n",
    "         # 3- clear gradients for next train\n",
    "        optimizer.zero_grad()\n",
    "         # 4- backpropagation, compute gradients\n",
    "        loss.backward()  \n",
    "         # 5- apply gradients\n",
    "        optimizer.step() \n",
    "         # 6- add error to error list\n",
    "        error_list.append(loss.detach())\n",
    "        \n",
    "    return error_list"
   ]
  },
  {
   "cell_type": "code",
   "execution_count": 7,
   "id": "c2bc46c2",
   "metadata": {},
   "outputs": [],
   "source": [
    "X_xor = gaussian(-1, -1, 0.1, 0.1, 100)\n",
    "y_xor = torch.zeros(X1_xor.shape[0]).long() \n",
    "\n",
    "error_list = train(X_xor, y_xor,\n",
    "                    model, optimizer_general, loss_fn, 10000)"
   ]
  },
  {
   "cell_type": "code",
   "execution_count": 8,
   "id": "137a812f",
   "metadata": {
    "scrolled": true
   },
   "outputs": [
    {
     "name": "stderr",
     "output_type": "stream",
     "text": [
      "/opt/anaconda3/lib/python3.9/site-packages/torch/functional.py:504: UserWarning: torch.meshgrid: in an upcoming release, it will be required to pass the indexing argument. (Triggered internally at /Users/runner/work/_temp/anaconda/conda-bld/pytorch_1682343673238/work/aten/src/ATen/native/TensorShape.cpp:3484.)\n",
      "  return _VF.meshgrid(tensors, **kwargs)  # type: ignore[attr-defined]\n"
     ]
    }
   ],
   "source": [
    "#Define a grid of points to make a prediction\n",
    "n = 100\n",
    "X1_pred, X2_pred = torch.meshgrid(torch.linspace(-2, 2, n),\n",
    "                                  torch.linspace(-2, 2, n))\n",
    "# Shape the tensor properly for prediction\n",
    "X_pred = torch.stack([X1_pred.reshape(-1), X2_pred.reshape(-1)], 1)"
   ]
  },
  {
   "cell_type": "code",
   "execution_count": 9,
   "id": "4bc549fc",
   "metadata": {},
   "outputs": [],
   "source": [
    "# Predictions\n",
    "y_pred = model(X_pred)\n",
    "\n",
    "# Shape again for contourf\n",
    "y_pred_plot = y_pred[:, 0].reshape((n, n))\n",
    "# Proper format for contourf\n",
    "y_pred_plot = y_pred_plot.detach()"
   ]
  },
  {
   "cell_type": "code",
   "execution_count": 10,
   "id": "345e1d55",
   "metadata": {},
   "outputs": [
    {
     "data": {
      "image/png": "[encoded data removed]",
      "text/plain": [
       "<Figure size 1000x400 with 3 Axes>"
      ]
     },
     "metadata": {},
     "output_type": "display_data"
    }
   ],
   "source": [
    "fig, axs = plt.subplots(1, 2, figsize=(10, 4))\n",
    "\n",
    "# Scatter plot of first category\n",
    "axs[0].scatter(torch.cat([X1_xor[:, 0], X2_xor[:, 0]]),\n",
    "                torch.cat([X1_xor[:, 1], X2_xor[:, 1]]), marker='.')\n",
    "# Scatter plot of second category\n",
    "axs[0].scatter(torch.cat([X3_xor[:, 0], X4_xor[:, 0]]),\n",
    "            torch.cat([X3_xor[:, 1], X4_xor[:, 1]]), marker='.')\n",
    "\n",
    "im = axs[0].contourf(X1_pred, X2_pred, y_pred_plot,\n",
    "                      cmap=\"PuOr\", alpha=0.3, vmin=0, vmax=1)\n",
    "axs[0].set(xlabel='x1', ylabel='x2',\n",
    "            title='One neuron only defines a linear boundary')\n",
    "fig.colorbar(im, ax=axs[0])\n",
    "\n",
    "# Training error\n",
    "axs[1].plot(error_list)\n",
    "axs[1].set(xlabel='Epoch', ylabel='Loss')\n",
    "\n",
    "plt.show()"
   ]
  },
  {
   "cell_type": "code",
   "execution_count": null,
   "id": "1a53bb9c-b6cb-4bf3-8910-8513f7e68c8f",
   "metadata": {},
   "outputs": [],
   "source": []
  },
  {
   "cell_type": "code",
   "execution_count": null,
   "id": "92eec04a-72ff-44a7-bebd-54b0f603e285",
   "metadata": {},
   "outputs": [],
   "source": []
  },
  {
   "cell_type": "code",
   "execution_count": null,
   "id": "1f2b99fc-5b73-4670-9d72-118c39df3a3a",
   "metadata": {},
   "outputs": [],
   "source": []
  },
  {
   "cell_type": "code",
   "execution_count": null,
   "id": "37003f21-6663-4238-b8a7-bcf967da89fe",
   "metadata": {},
   "outputs": [],
   "source": []
  },
  {
   "cell_type": "code",
   "execution_count": null,
   "id": "bfc43b08-4d33-457c-8e08-eb78bc8087f2",
   "metadata": {},
   "outputs": [],
   "source": []
  }
 ],
 "metadata": {
  "kernelspec": {
   "display_name": "Python 3 (ipykernel)",
   "language": "python",
   "name": "python3"
  },
  "language_info": {
   "codemirror_mode": {
    "name": "ipython",
    "version": 3
   },
   "file_extension": ".py",
   "mimetype": "text/x-python",
   "name": "python",
   "nbconvert_exporter": "python",
   "pygments_lexer": "ipython3",
   "version": "3.9.13"
  }
 },
 "nbformat": 4,
 "nbformat_minor": 5
}
